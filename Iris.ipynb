{
  "nbformat": 4,
  "nbformat_minor": 0,
  "metadata": {
    "colab": {
      "name": "Iris",
      "version": "0.3.2",
      "provenance": [],
      "collapsed_sections": []
    },
    "kernelspec": {
      "name": "python3",
      "display_name": "Python 3"
    }
  },
  "cells": [
    {
      "metadata": {
        "id": "tgAFTPDIe9r2",
        "colab_type": "text"
      },
      "cell_type": "markdown",
      "source": [
        "# Iris Dataset"
      ]
    },
    {
      "metadata": {
        "id": "MsiwjKs5xZCA",
        "colab_type": "text"
      },
      "cell_type": "markdown",
      "source": [
        "The goal is the classify the various iris observations into their correct labels. I am trying to use this  Notebook as a way to learn, but also teach about classification, KNN and KFold cross validation.  "
      ]
    },
    {
      "metadata": {
        "id": "QRApHSDn4ws4",
        "colab_type": "text"
      },
      "cell_type": "markdown",
      "source": [
        "## Getting the Data"
      ]
    },
    {
      "metadata": {
        "id": "gV7gwP7D5hNC",
        "colab_type": "text"
      },
      "cell_type": "markdown",
      "source": [
        "For our Iris dataset we are using the data provided by UCI Machine Learning Repository. In order to make the data usable we read it into a Pandas dataframe.  We then split our data into the dependent variable y (the type of iris) and the independent variables X (the measurements).  We are calling .values  in order to make X and y NumPy ndarrays instead of leaving them as a dataframe in the case of X, and a series in the case of y. Ndarrays are significantly faster to work with than both Pandas objects as both a series and a dataframe require more overhead for things such as data type checking.  Note that y would have been a series because it is a one-dimensional object whereas X would have been a dataframe because it is two-dimensional. "
      ]
    },
    {
      "metadata": {
        "id": "YjyPCqES4tPH",
        "colab_type": "code",
        "colab": {}
      },
      "cell_type": "code",
      "source": [
        "import pandas as pd\n",
        "import numpy as np\n",
        "\n",
        "url = 'https://archive.ics.uci.edu/ml/machine-learning-databases/iris/iris.data'\n",
        "df = pd.read_csv(url, names = ['sepal_length','sepal_width','petal_length','petal_width','species'])\n",
        "\n",
        "X = df.iloc[:,:-1].values\n",
        "y = df.iloc[:,-1].values"
      ],
      "execution_count": 0,
      "outputs": []
    },
    {
      "metadata": {
        "id": "a8FwUXReCyx7",
        "colab_type": "text"
      },
      "cell_type": "markdown",
      "source": [
        "## Splitting our Data"
      ]
    },
    {
      "metadata": {
        "id": "suRkVnNjCXCi",
        "colab_type": "text"
      },
      "cell_type": "markdown",
      "source": [
        "Next, we need to split our data into 4 sets. We need a set of independent variables (X_train) and a set of dependent variables (y_train) to train our model on. We also need data to test our model on to see how accurate it is. This comes in the way of X_test and y_test. As you can see this is done with the use of sklearn's train_test_split function. The test_size parameter is a value between 0 and 1 that represents how much of the data should be allocated to the testing variables. We use .2 as 20% test size is fairly standard. There are many additional parameters you can set, one of which is random_state which makes it so each time the code is run the split is done in the same way."
      ]
    },
    {
      "metadata": {
        "id": "X-lYJdr1CTBQ",
        "colab_type": "code",
        "colab": {}
      },
      "cell_type": "code",
      "source": [
        "from sklearn.model_selection import train_test_split\n",
        "X_train, X_test, y_train, y_test = train_test_split(X, y, test_size = 0.2)"
      ],
      "execution_count": 0,
      "outputs": []
    },
    {
      "metadata": {
        "id": "WHPNEKIVFCpA",
        "colab_type": "text"
      },
      "cell_type": "markdown",
      "source": [
        "## Making our Model"
      ]
    },
    {
      "metadata": {
        "id": "JWKztfTbFJDd",
        "colab_type": "text"
      },
      "cell_type": "markdown",
      "source": [
        "For our classification model we will be using the k-nearest neighbors model. If you look at the graph below you will see all our data points from our iris dataframe. Pick a random spot on the grid not already plotted, this will be your testing point.  If you have k = 1 in the k-nearest neighbors model, then the species of your testing point is just the species of the nearest plotted point. If you have k = 5 then the species of your point is whichever species is most occurring out of the 5 closest plotted points. This value k is called a hyperparameter and we need to find the right value for it as to not make our model overfit or underfit our dataset. To visualize this data, we are using seaborn and matplotlib, seaborn is built on matplotlib and adds some additional functionality."
      ]
    },
    {
      "metadata": {
        "id": "471AYYBDM-uo",
        "colab_type": "code",
        "colab": {
          "base_uri": "https://localhost:8080/",
          "height": 386
        },
        "outputId": "c91fe77f-2f94-4d5c-9b9f-2eb5974ed097"
      },
      "cell_type": "code",
      "source": [
        "import matplotlib.pyplot as plt\n",
        "import seaborn as sns\n",
        "%matplotlib inline\n",
        "\n",
        "grid = sns.FacetGrid(df,hue='species',size = 5)\n",
        "grid.map(plt.scatter,'sepal_length','sepal_width')\n",
        "grid.add_legend()"
      ],
      "execution_count": 21,
      "outputs": [
        {
          "output_type": "execute_result",
          "data": {
            "text/plain": [
              "<seaborn.axisgrid.FacetGrid at 0x7f6116e4dfd0>"
            ]
          },
          "metadata": {
            "tags": []
          },
          "execution_count": 21
        },
        {
          "output_type": "display_data",
          "data": {
            "image/png": "[encoded data removed]",
            "text/plain": [
              "<Figure size 455.25x360 with 1 Axes>"
            ]
          },
          "metadata": {
            "tags": []
          }
        }
      ]
    },
    {
      "metadata": {
        "id": "QPpYlB7lB4FV",
        "colab_type": "text"
      },
      "cell_type": "markdown",
      "source": [
        "# TODO:  accuracy_score and how it varies based on our split\n",
        "  "
      ]
    },
    {
      "metadata": {
        "id": "XuTRpSCDw4R-",
        "colab_type": "code",
        "colab": {}
      },
      "cell_type": "code",
      "source": [
        "from sklearn.neighbors import KNeighborsClassifier\n",
        "from sklearn.metrics import accuracy_score\n",
        "\n",
        "k_range = list(range(1,26))\n",
        "accuracy_scores = []\n",
        "\n",
        "for k in k_range:\n",
        "  knn = KNeighborsClassifier(n_neighbors = k)\n",
        "  knn.fit(X_train,y_train)\n",
        "  knn_pred = knn.predict(X_test)\n",
        "  accuracy_scores.append(accuracy_score(y_test,knn_pred))"
      ],
      "execution_count": 0,
      "outputs": []
    },
    {
      "metadata": {
        "id": "DoRKLB-sFUR1",
        "colab_type": "text"
      },
      "cell_type": "markdown",
      "source": [
        "# TODO: explain graph generically (results won't be reproduced)"
      ]
    },
    {
      "metadata": {
        "id": "elGNIO9xFOzR",
        "colab_type": "code",
        "colab": {}
      },
      "cell_type": "code",
      "source": [
        "\n",
        "plt.plot(k_range,accuracy_scores)\n",
        "plt.xlabel('Value of K')\n",
        "plt.ylabel('Accuracy')\n",
        "plt.title('Accuracy for each Value of K in KNN')"
      ],
      "execution_count": 0,
      "outputs": []
    },
    {
      "metadata": {
        "id": "bG0jZQATDNb0",
        "colab_type": "text"
      },
      "cell_type": "markdown",
      "source": [
        "# TODO: talk about confusion matrix and metrics we can derive from them,"
      ]
    },
    {
      "metadata": {
        "id": "ZcotApedlTKU",
        "colab_type": "code",
        "colab": {}
      },
      "cell_type": "code",
      "source": [
        "from sklearn.metrics import confusion_matrix\n",
        "knn = KNeighborsClassifier(n_neighbors = 5)\n",
        "knn.fit(X_train,y_train)\n",
        "knn_pred = knn.predict(X_test)\n",
        "knn_cm = confusion_matrix(y_test,knn_pred)"
      ],
      "execution_count": 0,
      "outputs": []
    },
    {
      "metadata": {
        "id": "Q6n2VEubFn4L",
        "colab_type": "text"
      },
      "cell_type": "markdown",
      "source": [
        "# TODO: talking about benefits of Kfold cross validation as well as drawbacks, talk about hyperparamters"
      ]
    },
    {
      "metadata": {
        "id": "uerp0ccHEmxa",
        "colab_type": "code",
        "colab": {}
      },
      "cell_type": "code",
      "source": [
        "from sklearn.model_selection import cross_val_score\n",
        "knn_cross = KNeighborsClassifier(n_neighbors = 5)\n",
        "cross_val_scores = cross_val_score(knn_cross,X,y, cv = 10, scoring='accuracy')"
      ],
      "execution_count": 0,
      "outputs": []
    },
    {
      "metadata": {
        "id": "K2xgD3PJF43C",
        "colab_type": "text"
      },
      "cell_type": "markdown",
      "source": [
        "# TODO: explain graph"
      ]
    },
    {
      "metadata": {
        "id": "Gtf2-0tYF3FD",
        "colab_type": "code",
        "outputId": "33f22ada-790b-46a8-a649-48264f6ac310",
        "colab": {
          "base_uri": "https://localhost:8080/",
          "height": 294
        }
      },
      "cell_type": "code",
      "source": [
        "plt.plot(list(range(10)),cross_val_scores)\n",
        "plt.axhline(y = cross_val_scores.mean(),color = 'red')\n",
        "plt.xlabel('Fold')\n",
        "plt.ylabel('Accuracy')\n",
        "plt.title('Accuracy for each Fold')\n",
        "plt.show()"
      ],
      "execution_count": 0,
      "outputs": [
        {
          "output_type": "display_data",
          "data": {
            "image/png": "[encoded data removed]",
            "text/plain": [
              "<Figure size 432x288 with 1 Axes>"
            ]
          },
          "metadata": {
            "tags": []
          }
        }
      ]
    },
    {
      "metadata": {
        "id": "cgKceFXGGQzl",
        "colab_type": "text"
      },
      "cell_type": "markdown",
      "source": [
        "# TODO: explain using Kfold cross validation for tuning hyperparams"
      ]
    },
    {
      "metadata": {
        "id": "4l6nl1wtlYsy",
        "colab_type": "code",
        "colab": {}
      },
      "cell_type": "code",
      "source": [
        "k_range = list(range(1,31))\n",
        "k_scores = []\n",
        "for k in k_range:\n",
        "  knn = KNeighborsClassifier(n_neighbors = k)\n",
        "  knn.fit(X_train,y_train)\n",
        "  cross_val_scores = cross_val_score(knn,X,y, cv = 10, scoring='accuracy')\n",
        "  k_scores.append(cross_val_scores.mean())"
      ],
      "execution_count": 0,
      "outputs": []
    },
    {
      "metadata": {
        "id": "x7fw3t8jGgwj",
        "colab_type": "text"
      },
      "cell_type": "markdown",
      "source": [
        "# TODO: Explain graph"
      ]
    },
    {
      "metadata": {
        "id": "ggV0qa-7Gdxf",
        "colab_type": "code",
        "colab": {}
      },
      "cell_type": "code",
      "source": [
        "plt.plot(k_range,k_scores)\n",
        "plt.xlabel('Value of K for KNN')\n",
        "plt.ylabel('Cross Validated Accuracy')\n",
        "plt.title('Cross Validated Accuracy for each Value of K')"
      ],
      "execution_count": 0,
      "outputs": []
    },
    {
      "metadata": {
        "id": "EpCSqrmVGogr",
        "colab_type": "text"
      },
      "cell_type": "markdown",
      "source": [
        "# TODO: explain why we picked 20 for KNN and explain our expected accuracy"
      ]
    },
    {
      "metadata": {
        "id": "6TODZh-SrOrY",
        "colab_type": "code",
        "colab": {}
      },
      "cell_type": "code",
      "source": [
        "knn = KNeighborsClassifier(n_neighbors=20)\n",
        "best_knn_score = cross_val_score(knn, X, y, cv=10, scoring='accuracy').mean()"
      ],
      "execution_count": 0,
      "outputs": []
    },
    {
      "metadata": {
        "id": "1mW3Zt9m6EmX",
        "colab_type": "text"
      },
      "cell_type": "markdown",
      "source": [
        "### Acknowledgements"
      ]
    },
    {
      "metadata": {
        "id": "ykm9dT2q6Ajp",
        "colab_type": "text"
      },
      "cell_type": "markdown",
      "source": [
        "Dua, D. and Graff, C. (2019). UCI Machine Learning Repository [http://archive.ics.uci.edu/ml]. Irvine, CA: University of California, School of Information and Computer Science."
      ]
    }
  ]
}